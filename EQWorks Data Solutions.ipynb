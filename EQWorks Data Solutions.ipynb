{
 "cells": [
  {
   "cell_type": "code",
   "execution_count": 136,
   "metadata": {},
   "outputs": [],
   "source": [
    "import pandas as pd\n",
    "import numpy as np\n",
    "import networkx as nx\n",
    "from timezonefinder import TimezoneFinder\n",
    "from pytz import timezone, utc\n",
    "import matplotlib.pyplot as plt\n",
    "%matplotlib inline"
   ]
  },
  {
   "cell_type": "markdown",
   "metadata": {},
   "source": [
    "### 1. Cleanup"
   ]
  },
  {
   "cell_type": "code",
   "execution_count": 3,
   "metadata": {
    "collapsed": true
   },
   "outputs": [],
   "source": [
    "df = pd.read_csv('data/DataSample.csv')"
   ]
  },
  {
   "cell_type": "code",
   "execution_count": 4,
   "metadata": {},
   "outputs": [
    {
     "data": {
      "text/html": [
       "<div>\n",
       "<style>\n",
       "    .dataframe thead tr:only-child th {\n",
       "        text-align: right;\n",
       "    }\n",
       "\n",
       "    .dataframe thead th {\n",
       "        text-align: left;\n",
       "    }\n",
       "\n",
       "    .dataframe tbody tr th {\n",
       "        vertical-align: top;\n",
       "    }\n",
       "</style>\n",
       "<table border=\"1\" class=\"dataframe\">\n",
       "  <thead>\n",
       "    <tr style=\"text-align: right;\">\n",
       "      <th></th>\n",
       "      <th>_ID</th>\n",
       "      <th>TimeSt</th>\n",
       "      <th>Country</th>\n",
       "      <th>Province</th>\n",
       "      <th>City</th>\n",
       "      <th>Latitude</th>\n",
       "      <th>Longitude</th>\n",
       "    </tr>\n",
       "  </thead>\n",
       "  <tbody>\n",
       "    <tr>\n",
       "      <th>0</th>\n",
       "      <td>4516516</td>\n",
       "      <td>2017-06-21 00:00:00.143</td>\n",
       "      <td>CA</td>\n",
       "      <td>ON</td>\n",
       "      <td>Waterloo</td>\n",
       "      <td>43.49347</td>\n",
       "      <td>-80.49123</td>\n",
       "    </tr>\n",
       "    <tr>\n",
       "      <th>1</th>\n",
       "      <td>4516547</td>\n",
       "      <td>2017-06-21 18:00:00.193</td>\n",
       "      <td>CA</td>\n",
       "      <td>ON</td>\n",
       "      <td>London</td>\n",
       "      <td>42.93990</td>\n",
       "      <td>-81.27090</td>\n",
       "    </tr>\n",
       "    <tr>\n",
       "      <th>2</th>\n",
       "      <td>4516550</td>\n",
       "      <td>2017-06-21 15:00:00.287</td>\n",
       "      <td>CA</td>\n",
       "      <td>ON</td>\n",
       "      <td>Guelph</td>\n",
       "      <td>43.57760</td>\n",
       "      <td>-80.22010</td>\n",
       "    </tr>\n",
       "    <tr>\n",
       "      <th>3</th>\n",
       "      <td>4516600</td>\n",
       "      <td>2017-06-21 15:00:00.307</td>\n",
       "      <td>CA</td>\n",
       "      <td>ON</td>\n",
       "      <td>Stratford</td>\n",
       "      <td>43.37160</td>\n",
       "      <td>-80.97730</td>\n",
       "    </tr>\n",
       "    <tr>\n",
       "      <th>4</th>\n",
       "      <td>4516613</td>\n",
       "      <td>2017-06-21 15:00:00.497</td>\n",
       "      <td>CA</td>\n",
       "      <td>ON</td>\n",
       "      <td>Stratford</td>\n",
       "      <td>43.37160</td>\n",
       "      <td>-80.97730</td>\n",
       "    </tr>\n",
       "  </tbody>\n",
       "</table>\n",
       "</div>"
      ],
      "text/plain": [
       "       _ID                   TimeSt Country Province       City  Latitude  \\\n",
       "0  4516516  2017-06-21 00:00:00.143      CA       ON   Waterloo  43.49347   \n",
       "1  4516547  2017-06-21 18:00:00.193      CA       ON     London  42.93990   \n",
       "2  4516550  2017-06-21 15:00:00.287      CA       ON     Guelph  43.57760   \n",
       "3  4516600  2017-06-21 15:00:00.307      CA       ON  Stratford  43.37160   \n",
       "4  4516613  2017-06-21 15:00:00.497      CA       ON  Stratford  43.37160   \n",
       "\n",
       "   Longitude  \n",
       "0  -80.49123  \n",
       "1  -81.27090  \n",
       "2  -80.22010  \n",
       "3  -80.97730  \n",
       "4  -80.97730  "
      ]
     },
     "execution_count": 4,
     "metadata": {},
     "output_type": "execute_result"
    }
   ],
   "source": [
    "df.head()"
   ]
  },
  {
   "cell_type": "code",
   "execution_count": 5,
   "metadata": {},
   "outputs": [
    {
     "name": "stdout",
     "output_type": "stream",
     "text": [
      "<class 'pandas.core.frame.DataFrame'>\n",
      "RangeIndex: 22025 entries, 0 to 22024\n",
      "Data columns (total 7 columns):\n",
      "_ID          22025 non-null int64\n",
      " TimeSt      22025 non-null object\n",
      "Country      22025 non-null object\n",
      "Province     22025 non-null object\n",
      "City         22025 non-null object\n",
      "Latitude     22025 non-null float64\n",
      "Longitude    22025 non-null float64\n",
      "dtypes: float64(2), int64(1), object(4)\n",
      "memory usage: 1.2+ MB\n"
     ]
    }
   ],
   "source": [
    "df.info()"
   ]
  },
  {
   "cell_type": "code",
   "execution_count": 6,
   "metadata": {
    "collapsed": true
   },
   "outputs": [],
   "source": [
    "# Drop duplicates, ignoring ID\n",
    "df.drop_duplicates(subset=[' TimeSt', 'Latitude','Longitude'],inplace=True)\n",
    "df.reset_index(drop=True,inplace=True)"
   ]
  },
  {
   "cell_type": "markdown",
   "metadata": {},
   "source": [
    "### 2. Label"
   ]
  },
  {
   "cell_type": "code",
   "execution_count": 7,
   "metadata": {
    "collapsed": true
   },
   "outputs": [],
   "source": [
    "df_pois = pd.read_csv('data/POIList.csv')"
   ]
  },
  {
   "cell_type": "code",
   "execution_count": 9,
   "metadata": {},
   "outputs": [
    {
     "data": {
      "text/html": [
       "<div>\n",
       "<style>\n",
       "    .dataframe thead tr:only-child th {\n",
       "        text-align: right;\n",
       "    }\n",
       "\n",
       "    .dataframe thead th {\n",
       "        text-align: left;\n",
       "    }\n",
       "\n",
       "    .dataframe tbody tr th {\n",
       "        vertical-align: top;\n",
       "    }\n",
       "</style>\n",
       "<table border=\"1\" class=\"dataframe\">\n",
       "  <thead>\n",
       "    <tr style=\"text-align: right;\">\n",
       "      <th></th>\n",
       "      <th>POIID</th>\n",
       "      <th>Latitude</th>\n",
       "      <th>Longitude</th>\n",
       "    </tr>\n",
       "  </thead>\n",
       "  <tbody>\n",
       "    <tr>\n",
       "      <th>0</th>\n",
       "      <td>POI1</td>\n",
       "      <td>53.546167</td>\n",
       "      <td>-113.485734</td>\n",
       "    </tr>\n",
       "    <tr>\n",
       "      <th>1</th>\n",
       "      <td>POI2</td>\n",
       "      <td>53.546167</td>\n",
       "      <td>-113.485734</td>\n",
       "    </tr>\n",
       "    <tr>\n",
       "      <th>2</th>\n",
       "      <td>POI3</td>\n",
       "      <td>45.521629</td>\n",
       "      <td>-73.566024</td>\n",
       "    </tr>\n",
       "    <tr>\n",
       "      <th>3</th>\n",
       "      <td>POI4</td>\n",
       "      <td>45.224830</td>\n",
       "      <td>-63.232729</td>\n",
       "    </tr>\n",
       "  </tbody>\n",
       "</table>\n",
       "</div>"
      ],
      "text/plain": [
       "  POIID   Latitude   Longitude\n",
       "0  POI1  53.546167 -113.485734\n",
       "1  POI2  53.546167 -113.485734\n",
       "2  POI3  45.521629  -73.566024\n",
       "3  POI4  45.224830  -63.232729"
      ]
     },
     "execution_count": 9,
     "metadata": {},
     "output_type": "execute_result"
    }
   ],
   "source": [
    "df_pois"
   ]
  },
  {
   "cell_type": "code",
   "execution_count": 16,
   "metadata": {
    "collapsed": true
   },
   "outputs": [],
   "source": [
    "# Looks like POI1 and POI2 are the same - so remove POI2\n",
    "df_pois.drop_duplicates(subset=[' Latitude','Longitude'],inplace=True)\n",
    "df_pois.reset_index(drop=True,inplace=True)"
   ]
  },
  {
   "cell_type": "code",
   "execution_count": 22,
   "metadata": {},
   "outputs": [
    {
     "data": {
      "text/html": [
       "<div>\n",
       "<style>\n",
       "    .dataframe thead tr:only-child th {\n",
       "        text-align: right;\n",
       "    }\n",
       "\n",
       "    .dataframe thead th {\n",
       "        text-align: left;\n",
       "    }\n",
       "\n",
       "    .dataframe tbody tr th {\n",
       "        vertical-align: top;\n",
       "    }\n",
       "</style>\n",
       "<table border=\"1\" class=\"dataframe\">\n",
       "  <thead>\n",
       "    <tr style=\"text-align: right;\">\n",
       "      <th></th>\n",
       "      <th>POIID</th>\n",
       "      <th>Latitude</th>\n",
       "      <th>Longitude</th>\n",
       "    </tr>\n",
       "  </thead>\n",
       "  <tbody>\n",
       "    <tr>\n",
       "      <th>0</th>\n",
       "      <td>POI1</td>\n",
       "      <td>53.546167</td>\n",
       "      <td>-113.485734</td>\n",
       "    </tr>\n",
       "    <tr>\n",
       "      <th>1</th>\n",
       "      <td>POI3</td>\n",
       "      <td>45.521629</td>\n",
       "      <td>-73.566024</td>\n",
       "    </tr>\n",
       "    <tr>\n",
       "      <th>2</th>\n",
       "      <td>POI4</td>\n",
       "      <td>45.224830</td>\n",
       "      <td>-63.232729</td>\n",
       "    </tr>\n",
       "  </tbody>\n",
       "</table>\n",
       "</div>"
      ],
      "text/plain": [
       "  POIID   Latitude   Longitude\n",
       "0  POI1  53.546167 -113.485734\n",
       "1  POI3  45.521629  -73.566024\n",
       "2  POI4  45.224830  -63.232729"
      ]
     },
     "execution_count": 22,
     "metadata": {},
     "output_type": "execute_result"
    }
   ],
   "source": [
    "df_pois"
   ]
  },
  {
   "cell_type": "code",
   "execution_count": 17,
   "metadata": {
    "collapsed": true
   },
   "outputs": [],
   "source": [
    "# Optimized this function to use numpy arrays\n",
    "def distance(lat1, lon1, lat2, lon2):\n",
    "    p = np.pi/180\n",
    "    a = 0.5 - np.cos((lat2-lat1)*p)/2 + np.cos(lat1*p)*np.cos(lat2*p) * (1-np.cos((lon2-lon1)*p)) / 2\n",
    "    return 12742 * np.arcsin(np.sqrt(a))"
   ]
  },
  {
   "cell_type": "code",
   "execution_count": 18,
   "metadata": {
    "collapsed": true
   },
   "outputs": [],
   "source": [
    "# Set lat and long values\n",
    "lat1 = df['Latitude'].values\n",
    "lat2 = df_pois[' Latitude'].values.reshape(-1,1)\n",
    "lon1 = df['Longitude'].values\n",
    "lon2 = df_pois['Longitude'].values.reshape(-1,1)"
   ]
  },
  {
   "cell_type": "code",
   "execution_count": 19,
   "metadata": {
    "collapsed": true
   },
   "outputs": [],
   "source": [
    "distances = distance(lat1, lon1, lat2, lon2)"
   ]
  },
  {
   "cell_type": "code",
   "execution_count": 20,
   "metadata": {},
   "outputs": [],
   "source": [
    "df['Closest POI'] = pd.Series(np.argmin(distances,axis=0)).replace(df_pois['POIID'])\n",
    "df['POI Distance'] = np.min(distances,axis=0)"
   ]
  },
  {
   "cell_type": "code",
   "execution_count": 23,
   "metadata": {},
   "outputs": [
    {
     "data": {
      "text/html": [
       "<div>\n",
       "<style>\n",
       "    .dataframe thead tr:only-child th {\n",
       "        text-align: right;\n",
       "    }\n",
       "\n",
       "    .dataframe thead th {\n",
       "        text-align: left;\n",
       "    }\n",
       "\n",
       "    .dataframe tbody tr th {\n",
       "        vertical-align: top;\n",
       "    }\n",
       "</style>\n",
       "<table border=\"1\" class=\"dataframe\">\n",
       "  <thead>\n",
       "    <tr style=\"text-align: right;\">\n",
       "      <th></th>\n",
       "      <th>_ID</th>\n",
       "      <th>TimeSt</th>\n",
       "      <th>Country</th>\n",
       "      <th>Province</th>\n",
       "      <th>City</th>\n",
       "      <th>Latitude</th>\n",
       "      <th>Longitude</th>\n",
       "      <th>Closest POI</th>\n",
       "      <th>POI Distance</th>\n",
       "    </tr>\n",
       "  </thead>\n",
       "  <tbody>\n",
       "    <tr>\n",
       "      <th>0</th>\n",
       "      <td>4516516</td>\n",
       "      <td>2017-06-21 00:00:00.143</td>\n",
       "      <td>CA</td>\n",
       "      <td>ON</td>\n",
       "      <td>Waterloo</td>\n",
       "      <td>43.49347</td>\n",
       "      <td>-80.49123</td>\n",
       "      <td>POI3</td>\n",
       "      <td>593.413441</td>\n",
       "    </tr>\n",
       "    <tr>\n",
       "      <th>1</th>\n",
       "      <td>4516547</td>\n",
       "      <td>2017-06-21 18:00:00.193</td>\n",
       "      <td>CA</td>\n",
       "      <td>ON</td>\n",
       "      <td>London</td>\n",
       "      <td>42.93990</td>\n",
       "      <td>-81.27090</td>\n",
       "      <td>POI3</td>\n",
       "      <td>677.309655</td>\n",
       "    </tr>\n",
       "    <tr>\n",
       "      <th>2</th>\n",
       "      <td>4516550</td>\n",
       "      <td>2017-06-21 15:00:00.287</td>\n",
       "      <td>CA</td>\n",
       "      <td>ON</td>\n",
       "      <td>Guelph</td>\n",
       "      <td>43.57760</td>\n",
       "      <td>-80.22010</td>\n",
       "      <td>POI3</td>\n",
       "      <td>569.647737</td>\n",
       "    </tr>\n",
       "    <tr>\n",
       "      <th>3</th>\n",
       "      <td>4516600</td>\n",
       "      <td>2017-06-21 15:00:00.307</td>\n",
       "      <td>CA</td>\n",
       "      <td>ON</td>\n",
       "      <td>Stratford</td>\n",
       "      <td>43.37160</td>\n",
       "      <td>-80.97730</td>\n",
       "      <td>POI3</td>\n",
       "      <td>634.733996</td>\n",
       "    </tr>\n",
       "    <tr>\n",
       "      <th>4</th>\n",
       "      <td>4516613</td>\n",
       "      <td>2017-06-21 15:00:00.497</td>\n",
       "      <td>CA</td>\n",
       "      <td>ON</td>\n",
       "      <td>Stratford</td>\n",
       "      <td>43.37160</td>\n",
       "      <td>-80.97730</td>\n",
       "      <td>POI3</td>\n",
       "      <td>634.733996</td>\n",
       "    </tr>\n",
       "  </tbody>\n",
       "</table>\n",
       "</div>"
      ],
      "text/plain": [
       "       _ID                   TimeSt Country Province       City  Latitude  \\\n",
       "0  4516516  2017-06-21 00:00:00.143      CA       ON   Waterloo  43.49347   \n",
       "1  4516547  2017-06-21 18:00:00.193      CA       ON     London  42.93990   \n",
       "2  4516550  2017-06-21 15:00:00.287      CA       ON     Guelph  43.57760   \n",
       "3  4516600  2017-06-21 15:00:00.307      CA       ON  Stratford  43.37160   \n",
       "4  4516613  2017-06-21 15:00:00.497      CA       ON  Stratford  43.37160   \n",
       "\n",
       "   Longitude Closest POI  POI Distance  \n",
       "0  -80.49123        POI3    593.413441  \n",
       "1  -81.27090        POI3    677.309655  \n",
       "2  -80.22010        POI3    569.647737  \n",
       "3  -80.97730        POI3    634.733996  \n",
       "4  -80.97730        POI3    634.733996  "
      ]
     },
     "execution_count": 23,
     "metadata": {},
     "output_type": "execute_result"
    }
   ],
   "source": [
    "df.head()"
   ]
  },
  {
   "cell_type": "markdown",
   "metadata": {},
   "source": [
    "### 3. Analysis"
   ]
  },
  {
   "cell_type": "code",
   "execution_count": 26,
   "metadata": {
    "collapsed": true
   },
   "outputs": [],
   "source": [
    "# Analytics\n",
    "df_pois['Average Distance'] = df.groupby('Closest POI')['POI Distance'].mean().values\n",
    "df_pois['Std Distance'] = df.groupby('Closest POI')['POI Distance'].std().values\n",
    "df_pois['Radius'] = df.groupby('Closest POI')['POI Distance'].max().values\n",
    "df_pois['Area'] = np.pi * np.power(df_pois['Radius'],2)\n",
    "df_pois['Requests'] = df['Closest POI'].value_counts().values\n",
    "df_pois['Density'] = df_pois['Requests'] / df_pois['Area']"
   ]
  },
  {
   "cell_type": "code",
   "execution_count": 27,
   "metadata": {},
   "outputs": [
    {
     "data": {
      "text/html": [
       "<div>\n",
       "<style>\n",
       "    .dataframe thead tr:only-child th {\n",
       "        text-align: right;\n",
       "    }\n",
       "\n",
       "    .dataframe thead th {\n",
       "        text-align: left;\n",
       "    }\n",
       "\n",
       "    .dataframe tbody tr th {\n",
       "        vertical-align: top;\n",
       "    }\n",
       "</style>\n",
       "<table border=\"1\" class=\"dataframe\">\n",
       "  <thead>\n",
       "    <tr style=\"text-align: right;\">\n",
       "      <th></th>\n",
       "      <th>POIID</th>\n",
       "      <th>Latitude</th>\n",
       "      <th>Longitude</th>\n",
       "      <th>Average Distance</th>\n",
       "      <th>Std Distance</th>\n",
       "      <th>Radius</th>\n",
       "      <th>Area</th>\n",
       "      <th>Requests</th>\n",
       "      <th>Density</th>\n",
       "    </tr>\n",
       "  </thead>\n",
       "  <tbody>\n",
       "    <tr>\n",
       "      <th>0</th>\n",
       "      <td>POI1</td>\n",
       "      <td>53.546167</td>\n",
       "      <td>-113.485734</td>\n",
       "      <td>301.906858</td>\n",
       "      <td>412.430033</td>\n",
       "      <td>11531.820832</td>\n",
       "      <td>4.177781e+08</td>\n",
       "      <td>9795</td>\n",
       "      <td>0.000023</td>\n",
       "    </tr>\n",
       "    <tr>\n",
       "      <th>1</th>\n",
       "      <td>POI3</td>\n",
       "      <td>45.521629</td>\n",
       "      <td>-73.566024</td>\n",
       "      <td>451.527555</td>\n",
       "      <td>223.350558</td>\n",
       "      <td>1474.580962</td>\n",
       "      <td>6.831045e+06</td>\n",
       "      <td>9727</td>\n",
       "      <td>0.001424</td>\n",
       "    </tr>\n",
       "    <tr>\n",
       "      <th>2</th>\n",
       "      <td>POI4</td>\n",
       "      <td>45.224830</td>\n",
       "      <td>-63.232729</td>\n",
       "      <td>497.278727</td>\n",
       "      <td>1472.937800</td>\n",
       "      <td>9349.572770</td>\n",
       "      <td>2.746208e+08</td>\n",
       "      <td>477</td>\n",
       "      <td>0.000002</td>\n",
       "    </tr>\n",
       "  </tbody>\n",
       "</table>\n",
       "</div>"
      ],
      "text/plain": [
       "  POIID   Latitude   Longitude  Average Distance  Std Distance        Radius  \\\n",
       "0  POI1  53.546167 -113.485734        301.906858    412.430033  11531.820832   \n",
       "1  POI3  45.521629  -73.566024        451.527555    223.350558   1474.580962   \n",
       "2  POI4  45.224830  -63.232729        497.278727   1472.937800   9349.572770   \n",
       "\n",
       "           Area  Requests   Density  \n",
       "0  4.177781e+08      9795  0.000023  \n",
       "1  6.831045e+06      9727  0.001424  \n",
       "2  2.746208e+08       477  0.000002  "
      ]
     },
     "execution_count": 27,
     "metadata": {},
     "output_type": "execute_result"
    }
   ],
   "source": [
    "df_pois"
   ]
  },
  {
   "cell_type": "markdown",
   "metadata": {},
   "source": [
    "### 4a. Model"
   ]
  },
  {
   "cell_type": "markdown",
   "metadata": {},
   "source": [
    "#### Hypothesis: Latitude and longitude can be trusted and match location info\n",
    "- To test this, get time zone information using timezonefinder package\n",
    "- Some lats/longs do not match with supposed city\n",
    "- e.g., city = Toronto and time zone = 'Europe/Berlin'\n",
    "- Therefore filter out all time zones that don't have America in them\n",
    "- Grouping by time zone and viewing unique cities shows that the other data look ok\n",
    "- Filtering removes extreme values that are probably erroneous\n",
    "- Conclusion: after filtering, lat and long can be trusted"
   ]
  },
  {
   "cell_type": "code",
   "execution_count": 28,
   "metadata": {
    "collapsed": true
   },
   "outputs": [],
   "source": [
    "# Change time stamps to datetime\n",
    "df[' TimeSt'] = pd.to_datetime(df[' TimeSt'])"
   ]
  },
  {
   "cell_type": "code",
   "execution_count": 29,
   "metadata": {
    "collapsed": true
   },
   "outputs": [],
   "source": [
    "# Find time zones for each location\n",
    "tf = TimezoneFinder(in_memory=True)"
   ]
  },
  {
   "cell_type": "code",
   "execution_count": 30,
   "metadata": {
    "collapsed": true
   },
   "outputs": [],
   "source": [
    "# Get time zone for each lat and long\n",
    "df['TimeZone'] = df[['Latitude','Longitude']].apply(lambda row: \n",
    "                                                    tf.timezone_at(lat=row['Latitude'],lng=row['Longitude']),axis=1)"
   ]
  },
  {
   "cell_type": "code",
   "execution_count": 31,
   "metadata": {},
   "outputs": [
    {
     "data": {
      "text/plain": [
       "array(['America/Toronto', 'America/Regina', 'America/Edmonton',\n",
       "       'America/Thunder_Bay', 'America/Vancouver', 'America/Moncton',\n",
       "       'America/Halifax', 'America/Glace_Bay', 'America/Winnipeg',\n",
       "       'America/St_Johns', 'America/Swift_Current', 'Asia/Tehran',\n",
       "       'America/Dawson_Creek', 'America/Detroit', 'Asia/Manila',\n",
       "       'America/Whitehorse', 'America/New_York', 'America/Yellowknife',\n",
       "       'America/Rankin_Inlet', 'Asia/Riyadh', 'America/Nipigon',\n",
       "       'America/Atikokan', 'Europe/Berlin'], dtype=object)"
      ]
     },
     "execution_count": 31,
     "metadata": {},
     "output_type": "execute_result"
    }
   ],
   "source": [
    "# Some odd time zones like Europe and Asia\n",
    "df['TimeZone'].unique()"
   ]
  },
  {
   "cell_type": "code",
   "execution_count": 35,
   "metadata": {},
   "outputs": [
    {
     "data": {
      "text/html": [
       "<div>\n",
       "<style>\n",
       "    .dataframe thead tr:only-child th {\n",
       "        text-align: right;\n",
       "    }\n",
       "\n",
       "    .dataframe thead th {\n",
       "        text-align: left;\n",
       "    }\n",
       "\n",
       "    .dataframe tbody tr th {\n",
       "        vertical-align: top;\n",
       "    }\n",
       "</style>\n",
       "<table border=\"1\" class=\"dataframe\">\n",
       "  <thead>\n",
       "    <tr style=\"text-align: right;\">\n",
       "      <th></th>\n",
       "      <th>_ID</th>\n",
       "      <th>TimeSt</th>\n",
       "      <th>Country</th>\n",
       "      <th>Province</th>\n",
       "      <th>City</th>\n",
       "      <th>Latitude</th>\n",
       "      <th>Longitude</th>\n",
       "      <th>Closest POI</th>\n",
       "      <th>POI Distance</th>\n",
       "      <th>TimeZone</th>\n",
       "    </tr>\n",
       "  </thead>\n",
       "  <tbody>\n",
       "    <tr>\n",
       "      <th>12702</th>\n",
       "      <td>5215632</td>\n",
       "      <td>2017-06-21 05:49:04.917</td>\n",
       "      <td>CA</td>\n",
       "      <td>ON</td>\n",
       "      <td>Toronto</td>\n",
       "      <td>51.29930</td>\n",
       "      <td>9.49100</td>\n",
       "      <td>POI4</td>\n",
       "      <td>5201.819069</td>\n",
       "      <td>Europe/Berlin</td>\n",
       "    </tr>\n",
       "    <tr>\n",
       "      <th>15553</th>\n",
       "      <td>5373264</td>\n",
       "      <td>2017-06-21 02:00:23.357</td>\n",
       "      <td>CA</td>\n",
       "      <td>ON</td>\n",
       "      <td>Toronto</td>\n",
       "      <td>48.73082</td>\n",
       "      <td>9.24356</td>\n",
       "      <td>POI4</td>\n",
       "      <td>5300.321600</td>\n",
       "      <td>Europe/Berlin</td>\n",
       "    </tr>\n",
       "  </tbody>\n",
       "</table>\n",
       "</div>"
      ],
      "text/plain": [
       "           _ID                  TimeSt Country Province     City  Latitude  \\\n",
       "12702  5215632 2017-06-21 05:49:04.917      CA       ON  Toronto  51.29930   \n",
       "15553  5373264 2017-06-21 02:00:23.357      CA       ON  Toronto  48.73082   \n",
       "\n",
       "       Longitude Closest POI  POI Distance       TimeZone  \n",
       "12702    9.49100        POI4   5201.819069  Europe/Berlin  \n",
       "15553    9.24356        POI4   5300.321600  Europe/Berlin  "
      ]
     },
     "execution_count": 35,
     "metadata": {},
     "output_type": "execute_result"
    }
   ],
   "source": [
    "# Claims to be Toronto yet the lat/long is in Germany\n",
    "df.loc[df['TimeZone'] == 'Europe/Berlin',:]"
   ]
  },
  {
   "cell_type": "code",
   "execution_count": 36,
   "metadata": {
    "collapsed": true
   },
   "outputs": [],
   "source": [
    "# Filter out non-America timestamps\n",
    "df.drop(df.loc[~df['TimeZone'].str.contains('America')].index,inplace=True)"
   ]
  },
  {
   "cell_type": "code",
   "execution_count": 37,
   "metadata": {},
   "outputs": [
    {
     "data": {
      "text/plain": [
       "array(['America/Toronto', 'America/Regina', 'America/Edmonton',\n",
       "       'America/Thunder_Bay', 'America/Vancouver', 'America/Moncton',\n",
       "       'America/Halifax', 'America/Glace_Bay', 'America/Winnipeg',\n",
       "       'America/St_Johns', 'America/Swift_Current',\n",
       "       'America/Dawson_Creek', 'America/Detroit', 'America/Whitehorse',\n",
       "       'America/New_York', 'America/Yellowknife', 'America/Rankin_Inlet',\n",
       "       'America/Nipigon', 'America/Atikokan'], dtype=object)"
      ]
     },
     "execution_count": 37,
     "metadata": {},
     "output_type": "execute_result"
    }
   ],
   "source": [
    "# What about New York and Detroit? Not Canada...\n",
    "df['TimeZone'].unique()"
   ]
  },
  {
   "cell_type": "code",
   "execution_count": 38,
   "metadata": {},
   "outputs": [
    {
     "data": {
      "text/html": [
       "<div>\n",
       "<style>\n",
       "    .dataframe thead tr:only-child th {\n",
       "        text-align: right;\n",
       "    }\n",
       "\n",
       "    .dataframe thead th {\n",
       "        text-align: left;\n",
       "    }\n",
       "\n",
       "    .dataframe tbody tr th {\n",
       "        vertical-align: top;\n",
       "    }\n",
       "</style>\n",
       "<table border=\"1\" class=\"dataframe\">\n",
       "  <thead>\n",
       "    <tr style=\"text-align: right;\">\n",
       "      <th></th>\n",
       "      <th>_ID</th>\n",
       "      <th>TimeSt</th>\n",
       "      <th>Country</th>\n",
       "      <th>Province</th>\n",
       "      <th>City</th>\n",
       "      <th>Latitude</th>\n",
       "      <th>Longitude</th>\n",
       "      <th>Closest POI</th>\n",
       "      <th>POI Distance</th>\n",
       "      <th>TimeZone</th>\n",
       "    </tr>\n",
       "  </thead>\n",
       "  <tbody>\n",
       "    <tr>\n",
       "      <th>3383</th>\n",
       "      <td>4700802</td>\n",
       "      <td>2017-06-21 00:11:35.800</td>\n",
       "      <td>CA</td>\n",
       "      <td>ON</td>\n",
       "      <td>Petrolia</td>\n",
       "      <td>42.88486</td>\n",
       "      <td>-82.47845</td>\n",
       "      <td>POI3</td>\n",
       "      <td>768.009756</td>\n",
       "      <td>America/Detroit</td>\n",
       "    </tr>\n",
       "    <tr>\n",
       "      <th>5498</th>\n",
       "      <td>4818836</td>\n",
       "      <td>2017-06-21 05:20:36.200</td>\n",
       "      <td>CA</td>\n",
       "      <td>ON</td>\n",
       "      <td>Petrolia</td>\n",
       "      <td>42.88485</td>\n",
       "      <td>-82.47829</td>\n",
       "      <td>POI3</td>\n",
       "      <td>767.998468</td>\n",
       "      <td>America/Detroit</td>\n",
       "    </tr>\n",
       "    <tr>\n",
       "      <th>5499</th>\n",
       "      <td>4818900</td>\n",
       "      <td>2017-06-21 14:20:36.040</td>\n",
       "      <td>CA</td>\n",
       "      <td>ON</td>\n",
       "      <td>Petrolia</td>\n",
       "      <td>42.88485</td>\n",
       "      <td>-82.47829</td>\n",
       "      <td>POI3</td>\n",
       "      <td>767.998468</td>\n",
       "      <td>America/Detroit</td>\n",
       "    </tr>\n",
       "    <tr>\n",
       "      <th>7420</th>\n",
       "      <td>4925175</td>\n",
       "      <td>2017-06-21 15:29:49.843</td>\n",
       "      <td>CA</td>\n",
       "      <td>ON</td>\n",
       "      <td>Windsor</td>\n",
       "      <td>42.33644</td>\n",
       "      <td>-83.03145</td>\n",
       "      <td>POI3</td>\n",
       "      <td>835.965951</td>\n",
       "      <td>America/Detroit</td>\n",
       "    </tr>\n",
       "    <tr>\n",
       "      <th>9249</th>\n",
       "      <td>5026522</td>\n",
       "      <td>2017-06-21 18:35:41.117</td>\n",
       "      <td>CA</td>\n",
       "      <td>ON</td>\n",
       "      <td>Petrolia</td>\n",
       "      <td>42.88485</td>\n",
       "      <td>-82.47828</td>\n",
       "      <td>POI3</td>\n",
       "      <td>767.997733</td>\n",
       "      <td>America/Detroit</td>\n",
       "    </tr>\n",
       "    <tr>\n",
       "      <th>9272</th>\n",
       "      <td>5027602</td>\n",
       "      <td>2017-06-21 18:35:45.250</td>\n",
       "      <td>CA</td>\n",
       "      <td>ON</td>\n",
       "      <td>Windsor</td>\n",
       "      <td>42.33644</td>\n",
       "      <td>-83.03145</td>\n",
       "      <td>POI3</td>\n",
       "      <td>835.965951</td>\n",
       "      <td>America/Detroit</td>\n",
       "    </tr>\n",
       "    <tr>\n",
       "      <th>9296</th>\n",
       "      <td>5028893</td>\n",
       "      <td>2017-06-21 08:35:54.827</td>\n",
       "      <td>CA</td>\n",
       "      <td>ON</td>\n",
       "      <td>Petrolia</td>\n",
       "      <td>42.88485</td>\n",
       "      <td>-82.47828</td>\n",
       "      <td>POI3</td>\n",
       "      <td>767.997733</td>\n",
       "      <td>America/Detroit</td>\n",
       "    </tr>\n",
       "    <tr>\n",
       "      <th>9719</th>\n",
       "      <td>5052527</td>\n",
       "      <td>2017-06-21 08:37:34.263</td>\n",
       "      <td>CA</td>\n",
       "      <td>ON</td>\n",
       "      <td>Petrolia</td>\n",
       "      <td>42.88485</td>\n",
       "      <td>-82.47828</td>\n",
       "      <td>POI3</td>\n",
       "      <td>767.997733</td>\n",
       "      <td>America/Detroit</td>\n",
       "    </tr>\n",
       "    <tr>\n",
       "      <th>10279</th>\n",
       "      <td>5082912</td>\n",
       "      <td>2017-06-21 12:39:39.027</td>\n",
       "      <td>CA</td>\n",
       "      <td>ON</td>\n",
       "      <td>Petrolia</td>\n",
       "      <td>42.88485</td>\n",
       "      <td>-82.47828</td>\n",
       "      <td>POI3</td>\n",
       "      <td>767.997733</td>\n",
       "      <td>America/Detroit</td>\n",
       "    </tr>\n",
       "    <tr>\n",
       "      <th>10693</th>\n",
       "      <td>5105172</td>\n",
       "      <td>2017-06-21 08:41:26.567</td>\n",
       "      <td>CA</td>\n",
       "      <td>ON</td>\n",
       "      <td>Windsor</td>\n",
       "      <td>42.36169</td>\n",
       "      <td>-82.99888</td>\n",
       "      <td>POI3</td>\n",
       "      <td>832.279730</td>\n",
       "      <td>America/Detroit</td>\n",
       "    </tr>\n",
       "    <tr>\n",
       "      <th>10742</th>\n",
       "      <td>5107634</td>\n",
       "      <td>2017-06-21 11:41:32.027</td>\n",
       "      <td>CA</td>\n",
       "      <td>ON</td>\n",
       "      <td>Petrolia</td>\n",
       "      <td>42.88478</td>\n",
       "      <td>-82.47825</td>\n",
       "      <td>POI3</td>\n",
       "      <td>767.998877</td>\n",
       "      <td>America/Detroit</td>\n",
       "    </tr>\n",
       "    <tr>\n",
       "      <th>10984</th>\n",
       "      <td>5119918</td>\n",
       "      <td>2017-06-21 18:42:18.357</td>\n",
       "      <td>CA</td>\n",
       "      <td>ON</td>\n",
       "      <td>Petrolia</td>\n",
       "      <td>42.88478</td>\n",
       "      <td>-82.47825</td>\n",
       "      <td>POI3</td>\n",
       "      <td>767.998877</td>\n",
       "      <td>America/Detroit</td>\n",
       "    </tr>\n",
       "    <tr>\n",
       "      <th>13501</th>\n",
       "      <td>5259333</td>\n",
       "      <td>2017-06-21 06:52:27.550</td>\n",
       "      <td>CA</td>\n",
       "      <td>ON</td>\n",
       "      <td>Point Edward</td>\n",
       "      <td>42.99401</td>\n",
       "      <td>-82.43007</td>\n",
       "      <td>POI3</td>\n",
       "      <td>759.289847</td>\n",
       "      <td>America/Detroit</td>\n",
       "    </tr>\n",
       "    <tr>\n",
       "      <th>14513</th>\n",
       "      <td>5316028</td>\n",
       "      <td>2017-06-21 00:56:04.193</td>\n",
       "      <td>CA</td>\n",
       "      <td>ON</td>\n",
       "      <td>Point Edward</td>\n",
       "      <td>42.99401</td>\n",
       "      <td>-82.43007</td>\n",
       "      <td>POI3</td>\n",
       "      <td>759.289847</td>\n",
       "      <td>America/Detroit</td>\n",
       "    </tr>\n",
       "    <tr>\n",
       "      <th>15448</th>\n",
       "      <td>5367512</td>\n",
       "      <td>2017-06-21 20:59:58.137</td>\n",
       "      <td>CA</td>\n",
       "      <td>ON</td>\n",
       "      <td>Point Edward</td>\n",
       "      <td>42.99411</td>\n",
       "      <td>-82.43085</td>\n",
       "      <td>POI3</td>\n",
       "      <td>759.342793</td>\n",
       "      <td>America/Detroit</td>\n",
       "    </tr>\n",
       "    <tr>\n",
       "      <th>15785</th>\n",
       "      <td>5385550</td>\n",
       "      <td>2017-06-21 09:01:25.350</td>\n",
       "      <td>CA</td>\n",
       "      <td>ON</td>\n",
       "      <td>Petrolia</td>\n",
       "      <td>42.88487</td>\n",
       "      <td>-82.47824</td>\n",
       "      <td>POI3</td>\n",
       "      <td>767.993834</td>\n",
       "      <td>America/Detroit</td>\n",
       "    </tr>\n",
       "    <tr>\n",
       "      <th>15788</th>\n",
       "      <td>5385723</td>\n",
       "      <td>2017-06-21 18:01:23.490</td>\n",
       "      <td>CA</td>\n",
       "      <td>ON</td>\n",
       "      <td>Petrolia</td>\n",
       "      <td>42.88487</td>\n",
       "      <td>-82.47824</td>\n",
       "      <td>POI3</td>\n",
       "      <td>767.993834</td>\n",
       "      <td>America/Detroit</td>\n",
       "    </tr>\n",
       "    <tr>\n",
       "      <th>17604</th>\n",
       "      <td>5483881</td>\n",
       "      <td>2017-06-21 06:11:35.520</td>\n",
       "      <td>CA</td>\n",
       "      <td>ON</td>\n",
       "      <td>Sarnia</td>\n",
       "      <td>42.95963</td>\n",
       "      <td>-82.44937</td>\n",
       "      <td>POI3</td>\n",
       "      <td>762.322495</td>\n",
       "      <td>America/Detroit</td>\n",
       "    </tr>\n",
       "  </tbody>\n",
       "</table>\n",
       "</div>"
      ],
      "text/plain": [
       "           _ID                  TimeSt Country Province          City  \\\n",
       "3383   4700802 2017-06-21 00:11:35.800      CA       ON      Petrolia   \n",
       "5498   4818836 2017-06-21 05:20:36.200      CA       ON      Petrolia   \n",
       "5499   4818900 2017-06-21 14:20:36.040      CA       ON      Petrolia   \n",
       "7420   4925175 2017-06-21 15:29:49.843      CA       ON       Windsor   \n",
       "9249   5026522 2017-06-21 18:35:41.117      CA       ON      Petrolia   \n",
       "9272   5027602 2017-06-21 18:35:45.250      CA       ON       Windsor   \n",
       "9296   5028893 2017-06-21 08:35:54.827      CA       ON      Petrolia   \n",
       "9719   5052527 2017-06-21 08:37:34.263      CA       ON      Petrolia   \n",
       "10279  5082912 2017-06-21 12:39:39.027      CA       ON      Petrolia   \n",
       "10693  5105172 2017-06-21 08:41:26.567      CA       ON       Windsor   \n",
       "10742  5107634 2017-06-21 11:41:32.027      CA       ON      Petrolia   \n",
       "10984  5119918 2017-06-21 18:42:18.357      CA       ON      Petrolia   \n",
       "13501  5259333 2017-06-21 06:52:27.550      CA       ON  Point Edward   \n",
       "14513  5316028 2017-06-21 00:56:04.193      CA       ON  Point Edward   \n",
       "15448  5367512 2017-06-21 20:59:58.137      CA       ON  Point Edward   \n",
       "15785  5385550 2017-06-21 09:01:25.350      CA       ON      Petrolia   \n",
       "15788  5385723 2017-06-21 18:01:23.490      CA       ON      Petrolia   \n",
       "17604  5483881 2017-06-21 06:11:35.520      CA       ON        Sarnia   \n",
       "\n",
       "       Latitude  Longitude Closest POI  POI Distance         TimeZone  \n",
       "3383   42.88486  -82.47845        POI3    768.009756  America/Detroit  \n",
       "5498   42.88485  -82.47829        POI3    767.998468  America/Detroit  \n",
       "5499   42.88485  -82.47829        POI3    767.998468  America/Detroit  \n",
       "7420   42.33644  -83.03145        POI3    835.965951  America/Detroit  \n",
       "9249   42.88485  -82.47828        POI3    767.997733  America/Detroit  \n",
       "9272   42.33644  -83.03145        POI3    835.965951  America/Detroit  \n",
       "9296   42.88485  -82.47828        POI3    767.997733  America/Detroit  \n",
       "9719   42.88485  -82.47828        POI3    767.997733  America/Detroit  \n",
       "10279  42.88485  -82.47828        POI3    767.997733  America/Detroit  \n",
       "10693  42.36169  -82.99888        POI3    832.279730  America/Detroit  \n",
       "10742  42.88478  -82.47825        POI3    767.998877  America/Detroit  \n",
       "10984  42.88478  -82.47825        POI3    767.998877  America/Detroit  \n",
       "13501  42.99401  -82.43007        POI3    759.289847  America/Detroit  \n",
       "14513  42.99401  -82.43007        POI3    759.289847  America/Detroit  \n",
       "15448  42.99411  -82.43085        POI3    759.342793  America/Detroit  \n",
       "15785  42.88487  -82.47824        POI3    767.993834  America/Detroit  \n",
       "15788  42.88487  -82.47824        POI3    767.993834  America/Detroit  \n",
       "17604  42.95963  -82.44937        POI3    762.322495  America/Detroit  "
      ]
     },
     "execution_count": 38,
     "metadata": {},
     "output_type": "execute_result"
    }
   ],
   "source": [
    "# Windsor/Sarnia etc. are near Detroit\n",
    "df.loc[df['TimeZone'] == 'America/Detroit',:]"
   ]
  },
  {
   "cell_type": "code",
   "execution_count": 41,
   "metadata": {},
   "outputs": [
    {
     "data": {
      "text/html": [
       "<div>\n",
       "<style>\n",
       "    .dataframe thead tr:only-child th {\n",
       "        text-align: right;\n",
       "    }\n",
       "\n",
       "    .dataframe thead th {\n",
       "        text-align: left;\n",
       "    }\n",
       "\n",
       "    .dataframe tbody tr th {\n",
       "        vertical-align: top;\n",
       "    }\n",
       "</style>\n",
       "<table border=\"1\" class=\"dataframe\">\n",
       "  <thead>\n",
       "    <tr style=\"text-align: right;\">\n",
       "      <th></th>\n",
       "      <th>_ID</th>\n",
       "      <th>TimeSt</th>\n",
       "      <th>Country</th>\n",
       "      <th>Province</th>\n",
       "      <th>City</th>\n",
       "      <th>Latitude</th>\n",
       "      <th>Longitude</th>\n",
       "      <th>Closest POI</th>\n",
       "      <th>POI Distance</th>\n",
       "      <th>TimeZone</th>\n",
       "    </tr>\n",
       "  </thead>\n",
       "  <tbody>\n",
       "    <tr>\n",
       "      <th>4242</th>\n",
       "      <td>4749184</td>\n",
       "      <td>2017-06-21 03:15:12.380</td>\n",
       "      <td>CA</td>\n",
       "      <td>ON</td>\n",
       "      <td>Niagara Falls</td>\n",
       "      <td>43.08371</td>\n",
       "      <td>-79.06058</td>\n",
       "      <td>POI3</td>\n",
       "      <td>514.282716</td>\n",
       "      <td>America/New_York</td>\n",
       "    </tr>\n",
       "    <tr>\n",
       "      <th>10675</th>\n",
       "      <td>5104086</td>\n",
       "      <td>2017-06-21 08:41:18.777</td>\n",
       "      <td>CA</td>\n",
       "      <td>ON</td>\n",
       "      <td>Niagara Falls</td>\n",
       "      <td>43.08398</td>\n",
       "      <td>-79.06054</td>\n",
       "      <td>POI3</td>\n",
       "      <td>514.263358</td>\n",
       "      <td>America/New_York</td>\n",
       "    </tr>\n",
       "  </tbody>\n",
       "</table>\n",
       "</div>"
      ],
      "text/plain": [
       "           _ID                  TimeSt Country Province           City  \\\n",
       "4242   4749184 2017-06-21 03:15:12.380      CA       ON  Niagara Falls   \n",
       "10675  5104086 2017-06-21 08:41:18.777      CA       ON  Niagara Falls   \n",
       "\n",
       "       Latitude  Longitude Closest POI  POI Distance          TimeZone  \n",
       "4242   43.08371  -79.06058        POI3    514.282716  America/New_York  \n",
       "10675  43.08398  -79.06054        POI3    514.263358  America/New_York  "
      ]
     },
     "execution_count": 41,
     "metadata": {},
     "output_type": "execute_result"
    }
   ],
   "source": [
    "# New York is in Niagara Falls - this is fine\n",
    "df.loc[df['TimeZone'] == 'America/New_York',:]"
   ]
  },
  {
   "cell_type": "code",
   "execution_count": 40,
   "metadata": {},
   "outputs": [
    {
     "data": {
      "text/html": [
       "<div>\n",
       "<style>\n",
       "    .dataframe thead tr:only-child th {\n",
       "        text-align: right;\n",
       "    }\n",
       "\n",
       "    .dataframe thead th {\n",
       "        text-align: left;\n",
       "    }\n",
       "\n",
       "    .dataframe tbody tr th {\n",
       "        vertical-align: top;\n",
       "    }\n",
       "</style>\n",
       "<table border=\"1\" class=\"dataframe\">\n",
       "  <thead>\n",
       "    <tr style=\"text-align: right;\">\n",
       "      <th></th>\n",
       "      <th>_ID</th>\n",
       "      <th>TimeSt</th>\n",
       "      <th>Country</th>\n",
       "      <th>Province</th>\n",
       "      <th>City</th>\n",
       "      <th>Latitude</th>\n",
       "      <th>Longitude</th>\n",
       "      <th>Closest POI</th>\n",
       "      <th>POI Distance</th>\n",
       "      <th>TimeZone</th>\n",
       "    </tr>\n",
       "  </thead>\n",
       "  <tbody>\n",
       "    <tr>\n",
       "      <th>0</th>\n",
       "      <td>4516516</td>\n",
       "      <td>2017-06-21 00:00:00.143</td>\n",
       "      <td>CA</td>\n",
       "      <td>ON</td>\n",
       "      <td>Waterloo</td>\n",
       "      <td>43.49347</td>\n",
       "      <td>-80.49123</td>\n",
       "      <td>POI3</td>\n",
       "      <td>593.413441</td>\n",
       "      <td>America/Toronto</td>\n",
       "    </tr>\n",
       "    <tr>\n",
       "      <th>1</th>\n",
       "      <td>4516547</td>\n",
       "      <td>2017-06-21 18:00:00.193</td>\n",
       "      <td>CA</td>\n",
       "      <td>ON</td>\n",
       "      <td>London</td>\n",
       "      <td>42.93990</td>\n",
       "      <td>-81.27090</td>\n",
       "      <td>POI3</td>\n",
       "      <td>677.309655</td>\n",
       "      <td>America/Toronto</td>\n",
       "    </tr>\n",
       "    <tr>\n",
       "      <th>2</th>\n",
       "      <td>4516550</td>\n",
       "      <td>2017-06-21 15:00:00.287</td>\n",
       "      <td>CA</td>\n",
       "      <td>ON</td>\n",
       "      <td>Guelph</td>\n",
       "      <td>43.57760</td>\n",
       "      <td>-80.22010</td>\n",
       "      <td>POI3</td>\n",
       "      <td>569.647737</td>\n",
       "      <td>America/Toronto</td>\n",
       "    </tr>\n",
       "    <tr>\n",
       "      <th>3</th>\n",
       "      <td>4516600</td>\n",
       "      <td>2017-06-21 15:00:00.307</td>\n",
       "      <td>CA</td>\n",
       "      <td>ON</td>\n",
       "      <td>Stratford</td>\n",
       "      <td>43.37160</td>\n",
       "      <td>-80.97730</td>\n",
       "      <td>POI3</td>\n",
       "      <td>634.733996</td>\n",
       "      <td>America/Toronto</td>\n",
       "    </tr>\n",
       "    <tr>\n",
       "      <th>4</th>\n",
       "      <td>4516613</td>\n",
       "      <td>2017-06-21 15:00:00.497</td>\n",
       "      <td>CA</td>\n",
       "      <td>ON</td>\n",
       "      <td>Stratford</td>\n",
       "      <td>43.37160</td>\n",
       "      <td>-80.97730</td>\n",
       "      <td>POI3</td>\n",
       "      <td>634.733996</td>\n",
       "      <td>America/Toronto</td>\n",
       "    </tr>\n",
       "  </tbody>\n",
       "</table>\n",
       "</div>"
      ],
      "text/plain": [
       "       _ID                  TimeSt Country Province       City  Latitude  \\\n",
       "0  4516516 2017-06-21 00:00:00.143      CA       ON   Waterloo  43.49347   \n",
       "1  4516547 2017-06-21 18:00:00.193      CA       ON     London  42.93990   \n",
       "2  4516550 2017-06-21 15:00:00.287      CA       ON     Guelph  43.57760   \n",
       "3  4516600 2017-06-21 15:00:00.307      CA       ON  Stratford  43.37160   \n",
       "4  4516613 2017-06-21 15:00:00.497      CA       ON  Stratford  43.37160   \n",
       "\n",
       "   Longitude Closest POI  POI Distance         TimeZone  \n",
       "0  -80.49123        POI3    593.413441  America/Toronto  \n",
       "1  -81.27090        POI3    677.309655  America/Toronto  \n",
       "2  -80.22010        POI3    569.647737  America/Toronto  \n",
       "3  -80.97730        POI3    634.733996  America/Toronto  \n",
       "4  -80.97730        POI3    634.733996  America/Toronto  "
      ]
     },
     "execution_count": 40,
     "metadata": {},
     "output_type": "execute_result"
    }
   ],
   "source": [
    "# Mostly they match up\n",
    "df.head()"
   ]
  },
  {
   "cell_type": "code",
   "execution_count": 42,
   "metadata": {},
   "outputs": [
    {
     "data": {
      "text/plain": [
       "TimeZone\n",
       "America/Atikokan                                                [Atikokan]\n",
       "America/Dawson_Creek     [Fort Saint John, Dawson Creek, Fort St John, ...\n",
       "America/Detroit                  [Petrolia, Windsor, Point Edward, Sarnia]\n",
       "America/Edmonton         [Edmonton, Calgary, Lethbridge, Rocky Mountain...\n",
       "America/Glace_Bay        [New Waterford, Sydney, North Sydney, Glace Ba...\n",
       "America/Halifax          [Elmsdale, Halifax, Dartmouth, Weymouth, Kentv...\n",
       "America/Moncton          [Moncton, Fredericton, Saint John, Oromocto, J...\n",
       "America/New_York                                           [Niagara Falls]\n",
       "America/Nipigon                                                  [Nipigon]\n",
       "America/Rankin_Inlet                             [Pointe-Claire, Montreal]\n",
       "America/Regina           [Saskatoon, Coronach, Prince Albert, Regina, M...\n",
       "America/St_Johns         [St. John's, Grand Falls-Windsor, Mount Pearl,...\n",
       "America/Swift_Current                                      [Swift Current]\n",
       "America/Thunder_Bay                                          [Thunder Bay]\n",
       "America/Toronto          [Waterloo, London, Guelph, Stratford, Kitchene...\n",
       "America/Vancouver        [Coquitlam, Vancouver, Surrey, Prince George, ...\n",
       "America/Whitehorse                            [Pelly Crossing, Whitehorse]\n",
       "America/Winnipeg         [Sioux Lookout, Winnipeg, Dryden, Zhoda, Fort ...\n",
       "America/Yellowknife                               [Hay River, Yellowknife]\n",
       "Name: City, dtype: object"
      ]
     },
     "execution_count": 42,
     "metadata": {},
     "output_type": "execute_result"
    }
   ],
   "source": [
    "# The cities look reasonable\n",
    "df.groupby('TimeZone')['City'].unique()"
   ]
  },
  {
   "cell_type": "code",
   "execution_count": 32,
   "metadata": {
    "collapsed": true
   },
   "outputs": [],
   "source": [
    "# Point of interest timezones\n",
    "df_pois['TimeZone'] = df_pois[[' Latitude','Longitude']].apply(lambda row: tf.timezone_at(lat=row[' Latitude'],lng=row['Longitude']),axis=1)"
   ]
  },
  {
   "cell_type": "code",
   "execution_count": 33,
   "metadata": {},
   "outputs": [
    {
     "data": {
      "text/html": [
       "<div>\n",
       "<style>\n",
       "    .dataframe thead tr:only-child th {\n",
       "        text-align: right;\n",
       "    }\n",
       "\n",
       "    .dataframe thead th {\n",
       "        text-align: left;\n",
       "    }\n",
       "\n",
       "    .dataframe tbody tr th {\n",
       "        vertical-align: top;\n",
       "    }\n",
       "</style>\n",
       "<table border=\"1\" class=\"dataframe\">\n",
       "  <thead>\n",
       "    <tr style=\"text-align: right;\">\n",
       "      <th></th>\n",
       "      <th>POIID</th>\n",
       "      <th>Latitude</th>\n",
       "      <th>Longitude</th>\n",
       "      <th>Average Distance</th>\n",
       "      <th>Std Distance</th>\n",
       "      <th>Radius</th>\n",
       "      <th>Area</th>\n",
       "      <th>Requests</th>\n",
       "      <th>Density</th>\n",
       "      <th>TimeZone</th>\n",
       "    </tr>\n",
       "  </thead>\n",
       "  <tbody>\n",
       "    <tr>\n",
       "      <th>0</th>\n",
       "      <td>POI1</td>\n",
       "      <td>53.546167</td>\n",
       "      <td>-113.485734</td>\n",
       "      <td>301.906858</td>\n",
       "      <td>412.430033</td>\n",
       "      <td>11531.820832</td>\n",
       "      <td>4.177781e+08</td>\n",
       "      <td>9795</td>\n",
       "      <td>0.000023</td>\n",
       "      <td>America/Edmonton</td>\n",
       "    </tr>\n",
       "    <tr>\n",
       "      <th>1</th>\n",
       "      <td>POI3</td>\n",
       "      <td>45.521629</td>\n",
       "      <td>-73.566024</td>\n",
       "      <td>451.527555</td>\n",
       "      <td>223.350558</td>\n",
       "      <td>1474.580962</td>\n",
       "      <td>6.831045e+06</td>\n",
       "      <td>9727</td>\n",
       "      <td>0.001424</td>\n",
       "      <td>America/Toronto</td>\n",
       "    </tr>\n",
       "    <tr>\n",
       "      <th>2</th>\n",
       "      <td>POI4</td>\n",
       "      <td>45.224830</td>\n",
       "      <td>-63.232729</td>\n",
       "      <td>497.278727</td>\n",
       "      <td>1472.937800</td>\n",
       "      <td>9349.572770</td>\n",
       "      <td>2.746208e+08</td>\n",
       "      <td>477</td>\n",
       "      <td>0.000002</td>\n",
       "      <td>America/Halifax</td>\n",
       "    </tr>\n",
       "  </tbody>\n",
       "</table>\n",
       "</div>"
      ],
      "text/plain": [
       "  POIID   Latitude   Longitude  Average Distance  Std Distance        Radius  \\\n",
       "0  POI1  53.546167 -113.485734        301.906858    412.430033  11531.820832   \n",
       "1  POI3  45.521629  -73.566024        451.527555    223.350558   1474.580962   \n",
       "2  POI4  45.224830  -63.232729        497.278727   1472.937800   9349.572770   \n",
       "\n",
       "           Area  Requests   Density          TimeZone  \n",
       "0  4.177781e+08      9795  0.000023  America/Edmonton  \n",
       "1  6.831045e+06      9727  0.001424   America/Toronto  \n",
       "2  2.746208e+08       477  0.000002   America/Halifax  "
      ]
     },
     "execution_count": 33,
     "metadata": {},
     "output_type": "execute_result"
    }
   ],
   "source": [
    "df_pois"
   ]
  },
  {
   "cell_type": "markdown",
   "metadata": {},
   "source": [
    "#### Hypothesis: Times are in local time (as they are not time zone coded)\n",
    "- Look at the histogram of number of requests sent each hour of the day\n",
    "- Uniformly districted from morning to evening in raw form\n",
    "- Transform to localised time based on time zone\n",
    "- Now there are more requests in the late evening and early morning with gaps in the late afternoon\n",
    "- Conclusion: likely that times are indeed in local time (odd shape of transformed distribution is not very informative, so not enough evidence to reject H0)"
   ]
  },
  {
   "cell_type": "code",
   "execution_count": 55,
   "metadata": {
    "collapsed": true
   },
   "outputs": [],
   "source": [
    "# Mark timestamps as UTC and transform them to potential localized time\n",
    "df['timestamp_assuming_utc'] = df.apply(lambda x: utc.localize(x[' TimeSt']),axis=1)\n",
    "df['timestamp_localized'] = df.apply(lambda x: timezone(x['TimeZone']).localize(x[' TimeSt']),axis=1)\n",
    "df['local_time'] = df.apply(lambda x: x['timestamp_assuming_utc'].tz_convert(x['TimeZone']).tz_localize(None),axis=1)"
   ]
  },
  {
   "cell_type": "code",
   "execution_count": 61,
   "metadata": {},
   "outputs": [
    {
     "data": {
      "image/png": "[encoded data removed]",
      "text/plain": [
       "<matplotlib.figure.Figure at 0x620122e48>"
      ]
     },
     "metadata": {},
     "output_type": "display_data"
    }
   ],
   "source": [
    "# Now we can test the times again - some weird peaks at the end of the day\n",
    "df['hour_of_day_localized'] = df['local_time'].dt.hour\n",
    "df['hour_of_day_localized'].hist(bins=23);"
   ]
  },
  {
   "cell_type": "markdown",
   "metadata": {},
   "source": [
    "#### Hypothesis: All IDs in dataset (after deduplication for geodata) are unique\n",
    "- The IDs are a form of anonymised identification of a device (i.e., they are all separate devices)\n",
    "- So check to see if we have any duplicated device IDs. We probably don't want to count people twice.\n",
    "- Number of records: 19977\n",
    "- Number of unique IDs: 19977\n",
    "- Conclusion: IDs in dataset are unique"
   ]
  },
  {
   "cell_type": "code",
   "execution_count": 62,
   "metadata": {},
   "outputs": [
    {
     "data": {
      "text/plain": [
       "19977"
      ]
     },
     "execution_count": 62,
     "metadata": {},
     "output_type": "execute_result"
    }
   ],
   "source": [
    "# Number of records\n",
    "df.shape[0]"
   ]
  },
  {
   "cell_type": "code",
   "execution_count": 65,
   "metadata": {},
   "outputs": [
    {
     "data": {
      "text/plain": [
       "19977"
      ]
     },
     "execution_count": 65,
     "metadata": {},
     "output_type": "execute_result"
    }
   ],
   "source": [
    "# Number of unique IDs\n",
    "len(df['_ID'].unique())"
   ]
  },
  {
   "cell_type": "markdown",
   "metadata": {},
   "source": [
    "#### Hypothesis: More requests at certain times of day affect popularity\n",
    "- All data are from a Wednesday, assume normal working day (not a holiday)\n",
    "- People are more likely to visit the POI outside working hours (assumption)\n",
    "- Should requests outside working hours/at lunchtimes be weighted higher?\n",
    "- Current data set does not show signs of differential requests at different times of day\n",
    "- Conclusion: No evidence that time of day has an impact on request density etc."
   ]
  },
  {
   "cell_type": "code",
   "execution_count": 66,
   "metadata": {},
   "outputs": [
    {
     "data": {
      "text/plain": [
       "array([datetime.date(2017, 6, 21)], dtype=object)"
      ]
     },
     "execution_count": 66,
     "metadata": {},
     "output_type": "execute_result"
    }
   ],
   "source": [
    "# Looking at timestamps - all the same date so we can ignore that as a factor\n",
    "df[' TimeSt'].dt.date.unique()"
   ]
  },
  {
   "cell_type": "code",
   "execution_count": 68,
   "metadata": {},
   "outputs": [
    {
     "data": {
      "text/plain": [
       "2"
      ]
     },
     "execution_count": 68,
     "metadata": {},
     "output_type": "execute_result"
    }
   ],
   "source": [
    "# Day of week is a Wednesday (Monday = 0, Tuesday = 1, Wednesday = 2)\n",
    "df.loc[0,' TimeSt'].dayofweek"
   ]
  },
  {
   "cell_type": "code",
   "execution_count": 319,
   "metadata": {},
   "outputs": [
    {
     "data": {
      "text/plain": [
       "array([datetime.date(2017, 6, 21)], dtype=object)"
      ]
     },
     "execution_count": 319,
     "metadata": {},
     "output_type": "execute_result"
    }
   ],
   "source": [
    "# Looking at timestamps - all the same date so we can ignore that as a factor\n",
    "df[' TimeSt'].dt.date.unique()"
   ]
  },
  {
   "cell_type": "markdown",
   "metadata": {},
   "source": [
    "#### Model building\n",
    "\n",
    "What would a good model look like? Popularity from most to least?\n",
    "- Tourist attraction in a big city (e.g., CN Tower)\n",
    "- Restaurant/mall/etc. in a big city\n",
    "- Tourist attraction/mall etc. in or near a smaller city\n",
    "- Middle of nowhere\n",
    "\n",
    "What would be a reasonable answer?\n",
    "- POI1 is in Edmonton, high population and Calgary nearby so probably quite popular (between 0 and 10)\n",
    "- POI3 is in the middle of Montreal, so likely to be very popular (so a 10)\n",
    "- POI4 is in the countryside in Nova Scotia, probably not popular at all (so a -10)\n",
    "- This is hard to test as we have so few points"
   ]
  },
  {
   "cell_type": "code",
   "execution_count": 70,
   "metadata": {
    "collapsed": true
   },
   "outputs": [],
   "source": [
    "# Function to map raw scores to POI map from -10 to 10\n",
    "def map_raw_scores(raw_scores):\n",
    "\n",
    "    op_start = -10\n",
    "    op_end = 10\n",
    "    ip_start = np.min(raw_scores)\n",
    "    ip_end = np.max(raw_scores)\n",
    "\n",
    "    output = op_start + ((op_end - op_start) / (ip_end - ip_start)) \\\n",
    "             * (raw_scores - ip_start)\n",
    "\n",
    "    return output.round()"
   ]
  },
  {
   "cell_type": "markdown",
   "metadata": {},
   "source": [
    "Density (requests/area) is a good starting measure of popularity"
   ]
  },
  {
   "cell_type": "code",
   "execution_count": 77,
   "metadata": {},
   "outputs": [
    {
     "data": {
      "text/plain": [
       "POIID\n",
       "POI1   -10.0\n",
       "POI3    10.0\n",
       "POI4   -10.0\n",
       "Name: Density, dtype: float64"
      ]
     },
     "execution_count": 77,
     "metadata": {},
     "output_type": "execute_result"
    }
   ],
   "source": [
    "pop = map_raw_scores(df_pois['Density'])\n",
    "pop.index = df_pois['POIID']\n",
    "pop"
   ]
  },
  {
   "cell_type": "markdown",
   "metadata": {},
   "source": [
    "Request distance also factors in\n",
    "- Closer requests should be weighted higher\n",
    "- Reciprocal of distance will discount outliers a lot more"
   ]
  },
  {
   "cell_type": "code",
   "execution_count": 85,
   "metadata": {},
   "outputs": [
    {
     "data": {
      "text/plain": [
       "Closest POI\n",
       "POI1    10.0\n",
       "POI3    -2.0\n",
       "POI4   -10.0\n",
       "Name: POI Distance, dtype: float64"
      ]
     },
     "execution_count": 85,
     "metadata": {},
     "output_type": "execute_result"
    }
   ],
   "source": [
    "# Using reciprocal distance alone\n",
    "pop = map_raw_scores(df.groupby('Closest POI')['POI Distance'].apply(lambda x: np.sum(np.reciprocal(x))))\n",
    "pop"
   ]
  },
  {
   "cell_type": "markdown",
   "metadata": {},
   "source": [
    "Now POI1 is the most popular, but it should be POI3."
   ]
  },
  {
   "cell_type": "code",
   "execution_count": 86,
   "metadata": {},
   "outputs": [
    {
     "data": {
      "text/plain": [
       "Closest POI\n",
       "POI1    -9.0\n",
       "POI3    10.0\n",
       "POI4   -10.0\n",
       "Name: POI Distance, dtype: float64"
      ]
     },
     "execution_count": 86,
     "metadata": {},
     "output_type": "execute_result"
    }
   ],
   "source": [
    "# Multiplying the two\n",
    "pop = map_raw_scores(df.groupby('Closest POI')['POI Distance']\n",
    "                     .apply(lambda x: np.sum(np.reciprocal(x))) * df_pois['Density'].values)\n",
    "pop"
   ]
  },
  {
   "cell_type": "markdown",
   "metadata": {},
   "source": [
    "Better, but POI1 should still be more popular - modify weight of request distance $d$ and multiply by density $\\rho$. Final result:\n",
    "\n",
    "$popularity = \\bigg[\\displaystyle\\sum(1/d)\\bigg]^4 \\times \\rho$"
   ]
  },
  {
   "cell_type": "code",
   "execution_count": 87,
   "metadata": {
    "collapsed": true
   },
   "outputs": [],
   "source": [
    "def score_pois(df, df_pois):\n",
    "\n",
    "    total = np.power(df.groupby('Closest POI')['POI Distance']\n",
    "                     .apply(lambda x: np.sum(np.reciprocal(x))),4) *\\\n",
    "                     df_pois['Density'].values\n",
    "    return total"
   ]
  },
  {
   "cell_type": "code",
   "execution_count": 88,
   "metadata": {},
   "outputs": [
    {
     "data": {
      "text/plain": [
       "Closest POI\n",
       "POI1     5.0\n",
       "POI3    10.0\n",
       "POI4   -10.0\n",
       "Name: POI Distance, dtype: float64"
      ]
     },
     "execution_count": 88,
     "metadata": {},
     "output_type": "execute_result"
    }
   ],
   "source": [
    "map_raw_scores(score_pois(df,df_pois))"
   ]
  },
  {
   "cell_type": "markdown",
   "metadata": {},
   "source": [
    "Looks good. Standard deviation of request distance might also be a factor but request density takes care of a lot of this, they are negatively correlated (-0.62)"
   ]
  },
  {
   "cell_type": "markdown",
   "metadata": {},
   "source": [
    "Something else I explored was the distribtions of the distances. This is covered by the reciprocal distance mainly, but the histograms show that POI1 has a concentrated number of requests nearby (Edmonton and Calgary) and POI3 has a few nearby and a lot from about 500 km away (i.e., Toronto)."
   ]
  },
  {
   "cell_type": "code",
   "execution_count": 110,
   "metadata": {
    "scrolled": true
   },
   "outputs": [
    {
     "data": {
      "image/png": "[encoded data removed]",
      "text/plain": [
       "<matplotlib.figure.Figure at 0x61a8f3588>"
      ]
     },
     "metadata": {},
     "output_type": "display_data"
    }
   ],
   "source": [
    "# Edmonton - includes Calgary around 300 km away\n",
    "df.loc[df['Closest POI'] == 'POI1','POI Distance'].hist();"
   ]
  },
  {
   "cell_type": "code",
   "execution_count": 111,
   "metadata": {},
   "outputs": [
    {
     "data": {
      "image/png": "[encoded data removed]",
      "text/plain": [
       "<matplotlib.figure.Figure at 0x61fa64438>"
      ]
     },
     "metadata": {},
     "output_type": "display_data"
    }
   ],
   "source": [
    "# Montreal - see peak for Toronto around 550 km away\n",
    "df.loc[df['Closest POI'] == 'POI3','POI Distance'].hist();"
   ]
  },
  {
   "cell_type": "code",
   "execution_count": 123,
   "metadata": {},
   "outputs": [
    {
     "data": {
      "image/png": "[encoded data removed]",
      "text/plain": [
       "<matplotlib.figure.Figure at 0x61fb06e80>"
      ]
     },
     "metadata": {},
     "output_type": "display_data"
    }
   ],
   "source": [
    "# Nova Scotia - far fewer requests, mostly from Halifax and NB, some as far as NL\n",
    "df.loc[df['Closest POI'] == 'POI4','POI Distance'].hist();"
   ]
  },
  {
   "cell_type": "code",
   "execution_count": 124,
   "metadata": {},
   "outputs": [],
   "source": [
    "# Get quartile radius for 25%, 50% and 75%\n",
    "df_pois['Radius 25%'] = df.groupby('Closest POI')['POI Distance'].quantile(0.25).values\n",
    "df_pois['Radius 50%'] = df.groupby('Closest POI')['POI Distance'].quantile(0.5).values\n",
    "df_pois['Radius 75%'] = df.groupby('Closest POI')['POI Distance'].quantile(0.75).values\n",
    "df_pois['Area 25%'] = np.pi * df_pois['Radius 25%']**2\n",
    "df_pois['Area 50%'] = np.pi * df_pois['Radius 50%']**2\n",
    "df_pois['Area 75%'] = np.pi * df_pois['Radius 75%']**2\n",
    "df_pois['Density 25%'] = df_pois['Requests'] / (4*df_pois['Area 25%'])\n",
    "df_pois['Density 50%'] = df_pois['Requests'] / (4*df_pois['Area 50%'])\n",
    "df_pois['Density 75%'] = df_pois['Requests'] / (4*df_pois['Area 75%'])"
   ]
  },
  {
   "cell_type": "code",
   "execution_count": 128,
   "metadata": {},
   "outputs": [
    {
     "data": {
      "text/html": [
       "<div>\n",
       "<style>\n",
       "    .dataframe thead tr:only-child th {\n",
       "        text-align: right;\n",
       "    }\n",
       "\n",
       "    .dataframe thead th {\n",
       "        text-align: left;\n",
       "    }\n",
       "\n",
       "    .dataframe tbody tr th {\n",
       "        vertical-align: top;\n",
       "    }\n",
       "</style>\n",
       "<table border=\"1\" class=\"dataframe\">\n",
       "  <thead>\n",
       "    <tr style=\"text-align: right;\">\n",
       "      <th></th>\n",
       "      <th>POIID</th>\n",
       "      <th>Latitude</th>\n",
       "      <th>Longitude</th>\n",
       "      <th>Average Distance</th>\n",
       "      <th>Std Distance</th>\n",
       "      <th>Radius</th>\n",
       "      <th>Area</th>\n",
       "      <th>Requests</th>\n",
       "      <th>Density</th>\n",
       "      <th>TimeZone</th>\n",
       "      <th>Radius 25%</th>\n",
       "      <th>Radius 50%</th>\n",
       "      <th>Radius 75%</th>\n",
       "      <th>Area 25%</th>\n",
       "      <th>Area 50%</th>\n",
       "      <th>Area 75%</th>\n",
       "      <th>Density 25%</th>\n",
       "      <th>Density 50%</th>\n",
       "      <th>Density 75%</th>\n",
       "    </tr>\n",
       "  </thead>\n",
       "  <tbody>\n",
       "    <tr>\n",
       "      <th>0</th>\n",
       "      <td>POI1</td>\n",
       "      <td>53.546167</td>\n",
       "      <td>-113.485734</td>\n",
       "      <td>301.906858</td>\n",
       "      <td>412.430033</td>\n",
       "      <td>11531.820832</td>\n",
       "      <td>4.177781e+08</td>\n",
       "      <td>9795</td>\n",
       "      <td>0.000023</td>\n",
       "      <td>America/Edmonton</td>\n",
       "      <td>15.237725</td>\n",
       "      <td>277.472314</td>\n",
       "      <td>303.940348</td>\n",
       "      <td>729.440937</td>\n",
       "      <td>241873.998856</td>\n",
       "      <td>290219.496951</td>\n",
       "      <td>3.357023</td>\n",
       "      <td>0.010124</td>\n",
       "      <td>0.008438</td>\n",
       "    </tr>\n",
       "    <tr>\n",
       "      <th>1</th>\n",
       "      <td>POI3</td>\n",
       "      <td>45.521629</td>\n",
       "      <td>-73.566024</td>\n",
       "      <td>451.527555</td>\n",
       "      <td>223.350558</td>\n",
       "      <td>1474.580962</td>\n",
       "      <td>6.831045e+06</td>\n",
       "      <td>9727</td>\n",
       "      <td>0.001424</td>\n",
       "      <td>America/Toronto</td>\n",
       "      <td>457.979232</td>\n",
       "      <td>504.990470</td>\n",
       "      <td>532.071770</td>\n",
       "      <td>658933.277656</td>\n",
       "      <td>801154.426991</td>\n",
       "      <td>889386.036759</td>\n",
       "      <td>0.003690</td>\n",
       "      <td>0.003035</td>\n",
       "      <td>0.002734</td>\n",
       "    </tr>\n",
       "    <tr>\n",
       "      <th>2</th>\n",
       "      <td>POI4</td>\n",
       "      <td>45.224830</td>\n",
       "      <td>-63.232729</td>\n",
       "      <td>497.278727</td>\n",
       "      <td>1472.937800</td>\n",
       "      <td>9349.572770</td>\n",
       "      <td>2.746208e+08</td>\n",
       "      <td>477</td>\n",
       "      <td>0.000002</td>\n",
       "      <td>America/Halifax</td>\n",
       "      <td>73.316823</td>\n",
       "      <td>157.030982</td>\n",
       "      <td>262.234040</td>\n",
       "      <td>16887.180820</td>\n",
       "      <td>77467.682627</td>\n",
       "      <td>216036.933838</td>\n",
       "      <td>0.007062</td>\n",
       "      <td>0.001539</td>\n",
       "      <td>0.000552</td>\n",
       "    </tr>\n",
       "  </tbody>\n",
       "</table>\n",
       "</div>"
      ],
      "text/plain": [
       "  POIID   Latitude   Longitude  Average Distance  Std Distance        Radius  \\\n",
       "0  POI1  53.546167 -113.485734        301.906858    412.430033  11531.820832   \n",
       "1  POI3  45.521629  -73.566024        451.527555    223.350558   1474.580962   \n",
       "2  POI4  45.224830  -63.232729        497.278727   1472.937800   9349.572770   \n",
       "\n",
       "           Area  Requests   Density          TimeZone  Radius 25%  Radius 50%  \\\n",
       "0  4.177781e+08      9795  0.000023  America/Edmonton   15.237725  277.472314   \n",
       "1  6.831045e+06      9727  0.001424   America/Toronto  457.979232  504.990470   \n",
       "2  2.746208e+08       477  0.000002   America/Halifax   73.316823  157.030982   \n",
       "\n",
       "   Radius 75%       Area 25%       Area 50%       Area 75%  Density 25%  \\\n",
       "0  303.940348     729.440937  241873.998856  290219.496951     3.357023   \n",
       "1  532.071770  658933.277656  801154.426991  889386.036759     0.003690   \n",
       "2  262.234040   16887.180820   77467.682627  216036.933838     0.007062   \n",
       "\n",
       "   Density 50%  Density 75%  \n",
       "0     0.010124     0.008438  \n",
       "1     0.003035     0.002734  \n",
       "2     0.001539     0.000552  "
      ]
     },
     "execution_count": 128,
     "metadata": {},
     "output_type": "execute_result"
    }
   ],
   "source": [
    "# Note huge 25% density for POI1\n",
    "df_pois"
   ]
  },
  {
   "cell_type": "markdown",
   "metadata": {},
   "source": [
    "# 4b"
   ]
  },
  {
   "cell_type": "code",
   "execution_count": 129,
   "metadata": {
    "collapsed": true
   },
   "outputs": [],
   "source": [
    "# Read in tasks and dependencies\n",
    "tasks = pd.read_csv('data/task_ids.txt',header=None).values[0]\n",
    "dep_arr = pd.read_csv('data/relations.txt',header=None,sep='->',\n",
    "                   engine='python').values\n",
    "start_task = 73\n",
    "goal_task = 36"
   ]
  },
  {
   "cell_type": "code",
   "execution_count": 130,
   "metadata": {
    "collapsed": true
   },
   "outputs": [],
   "source": [
    "# Get tasks from dependencies and current tasks running\n",
    "def get_tasks(dep_arr,tasks,tasks_running):\n",
    "\n",
    "    # Deal with scalars\n",
    "    if isinstance(tasks,int):\n",
    "        tasks = [tasks]\n",
    "\n",
    "    for task in tasks:\n",
    "        if task not in tasks_running:\n",
    "\n",
    "            # If it has dependencies, call the function again\n",
    "            deps = list(dep_arr[np.where(dep_arr[:,1] == task),0][0])\n",
    "            if deps:\n",
    "                tasks_running = get_tasks(dep_arr,deps,tasks_running)\n",
    "\n",
    "            # Append the task to the list\n",
    "            tasks_running.append(task)\n",
    "\n",
    "    return tasks_running"
   ]
  },
  {
   "cell_type": "code",
   "execution_count": 131,
   "metadata": {
    "collapsed": true
   },
   "outputs": [],
   "source": [
    "# Get final task order\n",
    "def get_task_order(start_task,end_task,dep_arr):\n",
    "\n",
    "    tasks_running = []\n",
    "\n",
    "    # Start initial tasks running (make sure we make a copy)\n",
    "    initial_tasks = list(get_tasks(dep_arr,start_task,tasks_running))\n",
    "\n",
    "    # Remove starting task for the initial run\n",
    "    initial_tasks.pop(-1)\n",
    "\n",
    "    # Final task list\n",
    "    task_order = get_tasks(dep_arr,end_task,tasks_running)\n",
    "\n",
    "    # Remove initial tasks from task order list\n",
    "    [task_order.remove(task) for task in initial_tasks]\n",
    "\n",
    "    return task_order"
   ]
  },
  {
   "cell_type": "code",
   "execution_count": 135,
   "metadata": {},
   "outputs": [
    {
     "data": {
      "text/plain": [
       "[73, 112, 100, 21, 20, 97, 94, 56, 102, 36]"
      ]
     },
     "execution_count": 135,
     "metadata": {},
     "output_type": "execute_result"
    }
   ],
   "source": [
    "get_task_order(start_task,goal_task,dep_arr)"
   ]
  },
  {
   "cell_type": "code",
   "execution_count": 134,
   "metadata": {},
   "outputs": [
    {
     "data": {
      "image/png": "[encoded data removed]",
      "text/plain": [
       "<matplotlib.figure.Figure at 0x61ff83438>"
      ]
     },
     "metadata": {},
     "output_type": "display_data"
    }
   ],
   "source": [
    "# Visualize dependency graph - requires networkx library\n",
    "G = nx.DiGraph()\n",
    "G.add_edges_from(dep_arr)\n",
    "nx.draw_shell(G,with_labels=True)"
   ]
  }
 ],
 "metadata": {
  "kernelspec": {
   "display_name": "Python [default]",
   "language": "python",
   "name": "python3"
  },
  "language_info": {
   "codemirror_mode": {
    "name": "ipython",
    "version": 3
   },
   "file_extension": ".py",
   "mimetype": "text/x-python",
   "name": "python",
   "nbconvert_exporter": "python",
   "pygments_lexer": "ipython3",
   "version": "3.6.1"
  }
 },
 "nbformat": 4,
 "nbformat_minor": 2
}
